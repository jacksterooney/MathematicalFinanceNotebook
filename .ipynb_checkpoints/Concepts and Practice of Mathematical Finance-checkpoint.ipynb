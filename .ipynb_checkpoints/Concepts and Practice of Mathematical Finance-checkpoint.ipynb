{
 "cells": [
  {
   "cell_type": "markdown",
   "metadata": {},
   "source": [
    "# Concepts and Practices of Mathematical Finance - Computer Projects"
   ]
  },
  {
   "cell_type": "markdown",
   "metadata": {},
   "source": [
    "## Vanilla Options in a Black-Scholes world"
   ]
  },
  {
   "cell_type": "markdown",
   "metadata": {},
   "source": [
    "The purpose of this chapter is to implement the pricing of some vanilla options with the Black-Scholes model for multiple methods. We will be implementing pricing for forwards, puts, calls, digital-puts, digital-calls, and zero-coupon bonds."
   ]
  },
  {
   "cell_type": "markdown",
   "metadata": {},
   "source": [
    "First, we need to implement a method for the cumulative-normal function, denoted as $N(x)$:"
   ]
  },
  {
   "cell_type": "code",
   "execution_count": 72,
   "metadata": {},
   "outputs": [],
   "source": [
    "import math\n",
    "import numpy as np\n",
    "\n",
    "#Cumulative normal function, defined by section B.2.2\n",
    "def N(x):\n",
    "    \n",
    "    if x < 0:\n",
    "        return 1 - N(-x)\n",
    "    \n",
    "    k = float(1) / (1 + 0.2316419 * x)\n",
    "    \n",
    "    return 1 - (float(1) / math.sqrt(2 * math.pi)) * math.exp(-x**2 / 2) * k * (0.319381530 + k * (-0.356563782 + k * (1.781477937 + k * (-1.821255978 + k * 1.330274429))));"
   ]
  },
  {
   "cell_type": "markdown",
   "metadata": {},
   "source": [
    "### Forward Pricing"
   ]
  },
  {
   "cell_type": "markdown",
   "metadata": {},
   "source": [
    "If a liquid asset trades today at $S_0$ with dividend rate $d$ and the continuously compounding rate is $r$ then a forward contract to buy the asset for $K$ with expiry $T$ is worth\n",
    "\n",
    "\\begin{equation}\n",
    "e^{-rT}(e^{(r-d)T}S_0 - K)\n",
    "\\end{equation}\n",
    "\n",
    "In particular, the contract will have zero value if and only if\n",
    "\n",
    "\\begin{equation}\n",
    "K = e^{(r-d)T}S_0\n",
    "\\end{equation}"
   ]
  },
  {
   "cell_type": "code",
   "execution_count": 73,
   "metadata": {},
   "outputs": [],
   "source": [
    "# Price of a put given spot price (S), dividend rate (d), continuously compounding rate (r), \n",
    "# strike price (K) and time to maturity (T)\n",
    "# Given by Theorem 2.1\n",
    "\n",
    "class Forward():\n",
    "    \n",
    "    def __init__ (self, S, K, d, r, T):\n",
    "        self.S = S\n",
    "        self.K = K\n",
    "        self.d = d\n",
    "        self.r = r\n",
    "        self.T = T\n",
    "\n",
    "    def price(self):\n",
    "        return math.exp(-self.r * self.T) * (math.exp((self.r - self.d) * self.T) * self.S - self.K)"
   ]
  },
  {
   "cell_type": "markdown",
   "metadata": {},
   "source": [
    "### Call Pricing"
   ]
  },
  {
   "cell_type": "markdown",
   "metadata": {},
   "source": [
    "The price of a simple European-style call option, assuming a dividend rate of 0, is given by the Black Scholes formula:\n",
    "\n",
    "\\begin{equation}\n",
    "C(S,K,\\sigma,r,T) = SN(d_1) - Ke^{-rT}N(d_2)\n",
    "\\end{equation}\n",
    "\n",
    "Where $\\sigma$ is the given volatility of the asset price. $d_1$ and $d_2$ are given by the equations:\n",
    "\n",
    "\\begin{equation}\n",
    "d_1 = \\frac{1}{\\sigma\\sqrt{T}} [ \\ln( \\frac{S}{K} ) + (r + \\frac{\\sigma^2}{2})T ]\n",
    "\\end{equation}\n",
    "\n",
    "\\begin{equation}\n",
    "d_2 = d_1 - \\sigma \\sqrt{T}\n",
    "\\end{equation}"
   ]
  },
  {
   "cell_type": "code",
   "execution_count": 74,
   "metadata": {},
   "outputs": [],
   "source": [
    "# Black-Scholes d functions, given by equation 3.26\n",
    "def d_1(S, K, v, r, T):\n",
    "    return (1/(v * math.sqrt(T))) * (math.log(S/K) + (r + (v**2 / 2)) * T)\n",
    "\n",
    "def d_2(S, K, v, r, T):\n",
    "    return d_1(S,K,v,r,T) - v * math.sqrt(T)"
   ]
  },
  {
   "cell_type": "code",
   "execution_count": 83,
   "metadata": {},
   "outputs": [],
   "source": [
    "# Master option class from which all others are derived\n",
    "class Option():\n",
    "    \n",
    "    def __init__(self, S, K, v, r, T):\n",
    "        self.S = S\n",
    "        self.K = K\n",
    "        self.v = v # Volatility\n",
    "        self.r = r\n",
    "        self.T = T\n",
    "        \n",
    "    def price(self):\n",
    "        raise NotImplementedError(\"Please implement pricing for this option type\")"
   ]
  },
  {
   "cell_type": "code",
   "execution_count": 84,
   "metadata": {},
   "outputs": [],
   "source": [
    "class Call(Option):\n",
    "    \n",
    "    def __init__(self, S, K, v, r, T):\n",
    "        Option.__init__(self, S, K, v, r, T)\n",
    "        \n",
    "    # Black-Scholes formula for European calls, defined by equation 3.25\n",
    "    def price(self):\n",
    "        return self.S * N( d_1(self.S, self.K, self.v, self.r, self.T) ) \\\n",
    "    - self.K * math.exp(-self.r * self.T) * N( d_2(self.S, self.K, self.v, self.r, self.T) )"
   ]
  },
  {
   "cell_type": "markdown",
   "metadata": {},
   "source": [
    "### Put Pricing"
   ]
  },
  {
   "cell_type": "markdown",
   "metadata": {},
   "source": [
    "There is a similar formula for put options, which can be deduced immediately from the call option formula by using put-call parity:\n",
    "\n",
    "\\begin{equation}\n",
    "P(S,K,\\sigma,r,T) = -SN(-d_1) + Ke^{-rt}N(-d_2)\n",
    "\\end{equation}"
   ]
  },
  {
   "cell_type": "code",
   "execution_count": 76,
   "metadata": {},
   "outputs": [],
   "source": [
    "class Put(Option):\n",
    "    \n",
    "    def __init__(self, S, K, v, r, T):\n",
    "        Option.__init__(self, S, K, v, r, T)\n",
    "        \n",
    "    # Black-Scholes formula for European puts, defined by equation 3.28\n",
    "    def price(self):\n",
    "        return -self.S * N( -d_1(self.S, self.K, self.v, self.r, self.T) ) \\\n",
    "            + self.K * math.exp(-self.r * self.T) * N( -d_2(self.S, self.K, self.v, self.r, self.T) ) "
   ]
  },
  {
   "cell_type": "markdown",
   "metadata": {},
   "source": [
    "### Forward, Put, Call consistency"
   ]
  },
  {
   "cell_type": "markdown",
   "metadata": {},
   "source": [
    "We need to make sure that the formulas have been implemented correctly, and pass the following consistency checks."
   ]
  },
  {
   "cell_type": "markdown",
   "metadata": {},
   "source": [
    "- We should have put-call parity: the price of a call minus the price of a put equals the value of a forward.\n",
    "- The price of a call option should be monotone decreasing with strike.\n",
    "- The price of a call option should be between $S$ and $S - Ke^{-rT}$, for all inputs\n",
    "- The price of a call option should be increasing in price with volatility\n",
    "- If $d=0$, the call option price should be increasing with $T$.\n",
    "- The call option price should be a convex function of strike"
   ]
  },
  {
   "cell_type": "code",
   "execution_count": 79,
   "metadata": {},
   "outputs": [
    {
     "name": "stdout",
     "output_type": "stream",
     "text": [
      "Forward Price (F): 1.1943784749543616\n",
      "Call Price (C): 2.4797369679404966\n",
      "Put Price (P): 1.285358492986143\n",
      "F - (C - P) = 0.0\n"
     ]
    }
   ],
   "source": [
    "# the price of a call minus the price of a put equals the value of a forward\n",
    "def test_put_call_parity():\n",
    "\n",
    "    # Example values for inputs\n",
    "    S = 36.07\n",
    "    K = 35.0\n",
    "    v = 0.4825\n",
    "    r = 0.05\n",
    "    T = 0.0712\n",
    "\n",
    "    call_price = Call(S,K,v,r,T).price()\n",
    "    put_price = Put(S,K,v,r,T).price()\n",
    "    forward_price = Forward(S,K,0,r,T).price()\n",
    "\n",
    "    print(\"Forward Price (F): \" + str(forward_price))\n",
    "    print(\"Call Price (C): \" + str(call_price))\n",
    "    print(\"Put Price (P): \" + str(put_price))\n",
    "\n",
    "    print(\"F - (C - P) = \" + str(round(forward_price - (call_price - put_price), 5)))\n",
    "\n",
    "test_put_call_parity()"
   ]
  },
  {
   "cell_type": "code",
   "execution_count": 80,
   "metadata": {},
   "outputs": [
    {
     "data": {
      "image/png": "[encoded data removed]",
      "text/plain": [
       "<Figure size 432x288 with 1 Axes>"
      ]
     },
     "metadata": {
      "needs_background": "light"
     },
     "output_type": "display_data"
    }
   ],
   "source": [
    "%matplotlib inline\n",
    "import matplotlib as plt\n",
    "import seaborn as sns\n",
    "\n",
    "# The price of a call option should be monotone decreasing (i.e. strictly never increasing) with strike\n",
    "# Also shows that call option price is a convex function of strike\n",
    "def test_call_strike_monotone_decrease():\n",
    "\n",
    "    # Example values for inputs\n",
    "    S = 36.07\n",
    "    v = 0.4825\n",
    "    r = 0.05\n",
    "    T = 0.0712\n",
    "\n",
    "    strikes = np.linspace(100,0.001,1000)\n",
    "\n",
    "    # Calculate array of call prices for each strike value\n",
    "    call_prices = [1.0] * 1000\n",
    "    for i in range(len(call_prices)):\n",
    "        call_prices[i] = Call(S, strikes[i], v, r, T).price()\n",
    "\n",
    "    strike_plot = sns.lineplot(strikes, call_prices)\n",
    "    strike_plot.set(xlabel = 'Strike Price', ylabel = 'Call Price', \n",
    "             title='Plot of Put price monotononically decreasing with Strike price')\n",
    "    \n",
    "test_call_strike_monotone_decrease()"
   ]
  },
  {
   "cell_type": "code",
   "execution_count": 81,
   "metadata": {},
   "outputs": [
    {
     "data": {
      "image/png": "[encoded data removed]",
      "text/plain": [
       "<Figure size 432x288 with 1 Axes>"
      ]
     },
     "metadata": {
      "needs_background": "light"
     },
     "output_type": "display_data"
    }
   ],
   "source": [
    "# The price of a call option should be monotone decreasing (i.e. strictly never increasing) with strike\n",
    "def test_call_volatility_price_increase():\n",
    "\n",
    "    # Example values for inputs\n",
    "    S = 36.07\n",
    "    K = 35.0\n",
    "    r = 0.05\n",
    "    T = 0.0712\n",
    "\n",
    "    volatilities = np.linspace(0.001,1,1000)\n",
    "\n",
    "    # Calculate array of call prices for each strike value\n",
    "    call_prices = [1.0] * 1000\n",
    "    for i in range(len(call_prices)):\n",
    "        call_prices[i] = Call(S, K, volatilities[i], r, T).price()\n",
    "\n",
    "    volatility_plot = sns.lineplot(volatilities, call_prices)\n",
    "    volatility_plot.set(xlabel = 'Volatility', ylabel = 'Call Price', \n",
    "             title='Plot of Put price increasing with volatility')\n",
    "    \n",
    "test_call_volatility_price_increase()"
   ]
  },
  {
   "cell_type": "code",
   "execution_count": 82,
   "metadata": {},
   "outputs": [
    {
     "data": {
      "image/png": "[encoded data removed]",
      "text/plain": [
       "<Figure size 432x288 with 1 Axes>"
      ]
     },
     "metadata": {
      "needs_background": "light"
     },
     "output_type": "display_data"
    }
   ],
   "source": [
    "# If 𝑑=0, the call option price should be increasing with 𝑇 .\n",
    "def test_call_time_to_maturity_price_increase():\n",
    "\n",
    "    # Example values for inputs\n",
    "    S = 36.07\n",
    "    K = 35.0\n",
    "    v = 0.4825\n",
    "    r = 0.05\n",
    "\n",
    "    time_to_maturity = np.linspace(0.001,10,1000)\n",
    "\n",
    "    # Calculate array of call prices for each strike value\n",
    "    call_prices = [1.0] * 1000\n",
    "    for i in range(len(call_prices)):\n",
    "        call_prices[i] = Call(S, K, v, r, time_to_maturity[i]).price()\n",
    "\n",
    "    volatility_plot = sns.lineplot(time_to_maturity, call_prices)\n",
    "    volatility_plot.set(xlabel = 'Time to Maturity', ylabel = 'Call Price', \n",
    "             title='Plot of Put price increasing with Time to Maturity')\n",
    "    \n",
    "test_call_time_to_maturity_price_increase()"
   ]
  },
  {
   "cell_type": "markdown",
   "metadata": {},
   "source": [
    "### Digital Puts and Calls, Zero-Coupon Bonds"
   ]
  },
  {
   "cell_type": "markdown",
   "metadata": {},
   "source": [
    "The price of a digital call is given by:\n",
    "\n",
    "\\begin{equation}\n",
    "e^{-rT}N(d_2)\n",
    "\\end{equation}\n",
    "\n",
    "As the price of a digital call plus a digital put is a zero-coupon bond, we conclude that the price of a digital put is given by:\n",
    "\n",
    "\\begin{equation}\n",
    "e^{-rT}(1-N(d_2)) = e^{-rT}N(-d_2)\n",
    "\\end{equation}"
   ]
  },
  {
   "cell_type": "code",
   "execution_count": 85,
   "metadata": {},
   "outputs": [],
   "source": [
    "# Price of a digital call\n",
    "def DC(S, K, v, r, T):\n",
    "    return math.exp(-r * T) * N( d_2(S, K, v, r, T))\n",
    "\n",
    "class DigitalCall(Option):\n",
    "    \n",
    "    def __init__(self, S, K, v, r, T):\n",
    "        Option.__init__(self, S, K, v, r, T)\n",
    "        \n",
    "    def price(self):\n",
    "        return math.exp(-self.r * self.T) * N( d_2(self.S, self.K, self.v, self.r, self.T))"
   ]
  },
  {
   "cell_type": "code",
   "execution_count": 86,
   "metadata": {},
   "outputs": [],
   "source": [
    "class DigitalPut(Option):\n",
    "    \n",
    "    def __init__(self, S, K, v, r, T):\n",
    "        Option.__init__(self, S, K, v, r, T)\n",
    "        \n",
    "    def price(self):\n",
    "        return math.exp(-self.r * self.T) * N( -d_2(self.S, self.K, self.v, self.r, self.T))"
   ]
  },
  {
   "cell_type": "markdown",
   "metadata": {},
   "source": [
    "The price of a Zero-Coupon bond is given by:\n",
    "\n",
    "\\begin{equation}\n",
    "ZC(K,r,T) = \\frac{1}{e^{rT}}\n",
    "\\end{equation}"
   ]
  },
  {
   "cell_type": "code",
   "execution_count": 87,
   "metadata": {},
   "outputs": [],
   "source": [
    "# Price of a ZC Bond\n",
    "def ZC(K, r, T):\n",
    "    return 1 / math.exp(r * T)\n",
    "\n",
    "class ZeroCouponBond():\n",
    "    \n",
    "    def __init__(self, K, r, T):\n",
    "        self.K = K\n",
    "        self.r = r\n",
    "        self.T = T\n",
    "        \n",
    "    def price(self):\n",
    "        return 1 / math.exp(self.r * self.T)"
   ]
  },
  {
   "cell_type": "markdown",
   "metadata": {},
   "source": [
    "### Digital Puts and Calls, Zero-Coupon Bonds Consistency"
   ]
  },
  {
   "cell_type": "markdown",
   "metadata": {},
   "source": [
    "- The price of a call-spread should approximate the price of a digital-call option.\n",
    "- The price of a digital-call option plus a digital-put option is equal to the price of a zero-coupon bond."
   ]
  },
  {
   "cell_type": "code",
   "execution_count": 88,
   "metadata": {},
   "outputs": [
    {
     "name": "stdout",
     "output_type": "stream",
     "text": [
      "Digital Call Price (DC): 0.40587167747125863\n",
      "Call 1 Price (C_1): 1.4995719248050339\n",
      "Call 2 Price (C_1): 1.0939759779544254\n",
      "Price of a digital call should approximate longing a call and shorting another with slightly higher strike price.\n",
      "DC - (C_1 - C_2) = 0.00028\n"
     ]
    }
   ],
   "source": [
    "def call_spread_equals_digital_call():\n",
    "    \n",
    "    # Example values for inputs\n",
    "    S = 36.07\n",
    "    K = 37.0\n",
    "    v = 0.4825\n",
    "    r = 0.05\n",
    "    T = 0.0712\n",
    "    \n",
    "    digital_call_price = DigitalCall(S,K,v,r,T).price()\n",
    "    \n",
    "    # Digital call option can be recreated with two call options of different strike price\n",
    "    K_1 = 38.121 # This strike price could be graphed to find the closest value such that the spread models a DC perfectly\n",
    "    \n",
    "    call_1 = Call(S,K,v,r,T).price()\n",
    "    call_2 = Call(S,K_1,v,r,T).price()\n",
    "    \n",
    "    print(\"Digital Call Price (DC): \" + str(digital_call_price))\n",
    "    print(\"Call 1 Price (C_1): \" + str(call_1))\n",
    "    print(\"Call 2 Price (C_1): \" + str(call_2))\n",
    "    \n",
    "    print(\"Price of a digital call should approximate longing a call and shorting another with slightly higher strike price.\")\n",
    "    print(\"DC - (C_1 - C_2) = \" + str(round(digital_call_price - (call_1 - call_2), 5)))\n",
    "    \n",
    "call_spread_equals_digital_call()"
   ]
  },
  {
   "cell_type": "code",
   "execution_count": 89,
   "metadata": {},
   "outputs": [
    {
     "name": "stdout",
     "output_type": "stream",
     "text": [
      "Zero-Coupon Bond Price (ZC): 0.9964463292870183\n",
      "Digital Call Price (DC): 0.5760995966071634\n",
      "Digital Put Price (DP): 0.420346732679855\n",
      "ZC - (DC + DP) = -0.0\n"
     ]
    }
   ],
   "source": [
    "def zero_coupon_digital_put_call_parity():\n",
    "    \n",
    "    # Example values for inputs\n",
    "    S = 36.07\n",
    "    K = 35.0\n",
    "    v = 0.4825\n",
    "    r = 0.05\n",
    "    T = 0.0712\n",
    "    \n",
    "    digital_call_price = DC(S,K,v,r,T)\n",
    "    digital_put_price = DP(S,K,v,r,T)\n",
    "    zc_bond_price = ZC(K, r, T)\n",
    "\n",
    "    print(\"Zero-Coupon Bond Price (ZC): \" + str(zc_bond_price))\n",
    "    print(\"Digital Call Price (DC): \" + str(digital_call_price))\n",
    "    print(\"Digital Put Price (DP): \" + str(digital_put_price))\n",
    "\n",
    "    print(\"ZC - (DC + DP) = \" + str(round(zc_bond_price - (digital_call_price + digital_put_price), 5)))\n",
    "\n",
    "zero_coupon_digital_put_call_parity()   "
   ]
  },
  {
   "cell_type": "markdown",
   "metadata": {},
   "source": [
    "## Validation via Monte Carlo"
   ]
  },
  {
   "cell_type": "markdown",
   "metadata": {},
   "source": [
    "We want to test the prices against a Monte Carlo simulation, using a random number generator that can be changed at any time to check for bias. From this, we can first implement an engine that randomly evolves a stock price from time 0 to time $T$ according to a geometric Brownian motion with drift $r-d$ and volatility $\\sigma$, using the formula:\n",
    "\n",
    "\\begin{equation}\n",
    "S_T = S_0 e^{(r-d)T} - \\frac{1}{2} \\sigma^2 T + \\sigma \\sqrt{T} W\n",
    "\\end{equation}\n",
    "\n",
    "where $W$ is a standard random variable."
   ]
  },
  {
   "cell_type": "code",
   "execution_count": 90,
   "metadata": {},
   "outputs": [],
   "source": [
    "import random as rand # Using the standard Python random number library, can be replaced\n",
    "\n",
    "def S_T(S_0, r, d, T, v):\n",
    "    \n",
    "    W = rand.random() #Produces a value between 0.0 and 1.0\n",
    "    \n",
    "    first_term = S_0 * math.exp((r-d)*T)\n",
    "    second_term = 0.5 * v**2 * T\n",
    "    third_term = v * math.sqrt(T) * W\n",
    "    \n",
    "    return first_term - second_term + third_term"
   ]
  },
  {
   "cell_type": "markdown",
   "metadata": {},
   "source": [
    "We can then use this engine to write Monte Carlo pricers for all the products mentioned above, and produce a final stock value."
   ]
  }
 ],
 "metadata": {
  "kernelspec": {
   "display_name": "Python 3",
   "language": "python",
   "name": "python3"
  },
  "language_info": {
   "codemirror_mode": {
    "name": "ipython",
    "version": 3
   },
   "file_extension": ".py",
   "mimetype": "text/x-python",
   "name": "python",
   "nbconvert_exporter": "python",
   "pygments_lexer": "ipython3",
   "version": "3.7.1"
  }
 },
 "nbformat": 4,
 "nbformat_minor": 2
}
